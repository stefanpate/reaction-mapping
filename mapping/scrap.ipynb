{
 "cells": [
  {
   "cell_type": "code",
   "execution_count": 11,
   "metadata": {},
   "outputs": [],
   "source": [
    "import sys\n",
    "sys.path.append('/home/stef/Tb/reaction_mapping')\n",
    "from utils import load_json, save_json\n",
    "from itertools import permutations"
   ]
  },
  {
   "cell_type": "code",
   "execution_count": 10,
   "metadata": {},
   "outputs": [
    {
     "name": "stdout",
     "output_type": "stream",
     "text": [
      "RXN-10725_reverse\n"
     ]
    }
   ],
   "source": [
    "foo = load_json('mc_v21_rxns_batch_6.json')\n",
    "\n",
    "bar = {}\n",
    "thresh = 80\n",
    "for i, elt in enumerate(foo.keys()):\n",
    "    if i == 81:\n",
    "        print(elt)\n",
    "        bar[elt] = foo[elt]\n",
    "\n",
    "save_json(bar, 'test_rxn.json')"
   ]
  },
  {
   "cell_type": "code",
   "execution_count": null,
   "metadata": {},
   "outputs": [],
   "source": [
    "for perm in permutations"
   ]
  }
 ],
 "metadata": {
  "kernelspec": {
   "display_name": "mine",
   "language": "python",
   "name": "python3"
  },
  "language_info": {
   "codemirror_mode": {
    "name": "ipython",
    "version": 3
   },
   "file_extension": ".py",
   "mimetype": "text/x-python",
   "name": "python",
   "nbconvert_exporter": "python",
   "pygments_lexer": "ipython3",
   "version": "3.7.12"
  },
  "orig_nbformat": 4
 },
 "nbformat": 4,
 "nbformat_minor": 2
}
