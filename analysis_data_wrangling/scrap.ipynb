{
 "cells": [
  {
   "cell_type": "code",
   "execution_count": 1,
   "metadata": {},
   "outputs": [],
   "source": [
    "from rdkit import Chem\n",
    "from rdkit.Chem import AllChem\n",
    "import sys\n",
    "sys.path.append('/home/stef/Tb/reaction_mapping')\n",
    "from utils import save_json, load_json, sanitize"
   ]
  },
  {
   "cell_type": "code",
   "execution_count": 2,
   "metadata": {},
   "outputs": [],
   "source": [
    "jo_data_dir = '../jos_rxn_data/'\n",
    "kegg_fn = 'kegg.json'\n",
    "brenda_fn = 'brenda.json'\n",
    "mc_path = '/home/stef/Tb/reaction_mapping/mapping/mc_v21_as_is.json'\n",
    "\n",
    "kegg = load_json(jo_data_dir + kegg_fn)\n",
    "brenda = load_json(jo_data_dir + brenda_fn)\n",
    "mc = load_json(mc_path)"
   ]
  },
  {
   "cell_type": "code",
   "execution_count": 3,
   "metadata": {},
   "outputs": [
    {
     "name": "stdout",
     "output_type": "stream",
     "text": [
      "R00006 [{'cpd00011:0': 'O=C=O', 'cpd00668:0': 'CC(=O)C(C)(O)C(=O)O'}, {'cpd00020:0': 'CC(=O)C(=O)O', 'cpd00020:1': 'CC(=O)C(=O)O'}, 'rule0274']\n",
      "R00006_reverse [{'cpd00020:0': 'CC(=O)C(=O)O', 'cpd00020:1': 'CC(=O)C(=O)O'}, {'cpd00011:0': 'O=C=O', 'cpd00668:0': 'CC(=O)C(C)(O)C(=O)O'}, 'rule0273']\n",
      "R00008 [{'cpd02570:0': 'CC(O)(CC(=O)C(=O)O)C(=O)O'}, {'cpd00020:0': 'CC(=O)C(=O)O', 'cpd00020:1': 'CC(=O)C(=O)O'}, 'rule0053']\n",
      "R00008_reverse [{'cpd00020:0': 'CC(=O)C(=O)O', 'cpd00020:1': 'CC(=O)C(=O)O'}, {'cpd02570:0': 'CC(O)(CC(=O)C(=O)O)C(=O)O'}, 'rule0051']\n",
      "R00010 [{'cpd00001:0': 'O', 'cpd00794:0': 'OC[C@H]1O[C@H](O[C@H]2O[C@H](CO)[C@@H](O)[C@H](O)[C@H]2O)[C@H](O)[C@@H](O)[C@@H]1O'}, {'cpd00027:0': 'OC[C@H]1OC(O)[C@H](O)[C@@H](O)[C@@H]1O', 'cpd00027:1': 'OC[C@H]1OC(O)[C@H](O)[C@@H](O)[C@@H]1O'}, 'rule0007']\n",
      "R00010_reverse [{'cpd00027:0': 'OC[C@H]1OC(O)[C@H](O)[C@@H](O)[C@@H]1O', 'cpd00027:1': 'OC[C@H]1OC(O)[C@H](O)[C@@H](O)[C@@H]1O'}, {'cpd00001:0': 'O', 'cpd00794:0': 'OC[C@H]1O[C@H](O[C@H]2O[C@H](CO)[C@@H](O)[C@H](O)[C@H]2O)[C@H](O)[C@@H](O)[C@@H]1O'}, 'rule0006']\n",
      "R00012 [{'cpd00038:0': 'Nc1nc2c(ncn2[C@@H]2O[C@H](COP(=O)(O)OP(=O)(O)OP(=O)(O)O)[C@@H](O)[C@H]2O)c(=O)[nH]1', 'cpd00038:1': 'Nc1nc2c(ncn2[C@@H]2O[C@H](COP(=O)(O)OP(=O)(O)OP(=O)(O)O)[C@@H](O)[C@H]2O)c(=O)[nH]1'}, {'cpd00012:0': 'O=P(O)(O)OP(=O)(O)O', 'cpd00925:0': 'Nc1nc2c(ncn2[C@@H]2O[C@H](COP(=O)(O)OP(=O)(O)OP(=O)(O)OP(=O)(O)OC[C@H]3O[C@@H](n4cnc5c(=O)[nH]c(N)nc54)[C@H](O)[C@@H]3O)[C@@H](O)[C@H]2O)c(=O)[nH]1'}, 'rule0036']\n",
      "R00012_reverse [{'cpd00012:0': 'O=P(O)(O)OP(=O)(O)O', 'cpd00925:0': 'Nc1nc2c(ncn2[C@@H]2O[C@H](COP(=O)(O)OP(=O)(O)OP(=O)(O)OP(=O)(O)OC[C@H]3O[C@@H](n4cnc5c(=O)[nH]c(N)nc54)[C@H](O)[C@@H]3O)[C@@H](O)[C@H]2O)c(=O)[nH]1'}, {'cpd00038:0': 'Nc1nc2c(ncn2[C@@H]2O[C@H](COP(=O)(O)OP(=O)(O)OP(=O)(O)O)[C@@H](O)[C@H]2O)c(=O)[nH]1', 'cpd00038:1': 'Nc1nc2c(ncn2[C@@H]2O[C@H](COP(=O)(O)OP(=O)(O)OP(=O)(O)O)[C@@H](O)[C@H]2O)c(=O)[nH]1'}, 'rule0037']\n",
      "R00013 [{'cpd00040:0': 'O=CC(=O)O', 'cpd00040:1': 'O=CC(=O)O'}, {'cpd00011:0': 'O=C=O', 'cpd00843:0': 'O=CC(O)C(=O)O'}, 'rule0273']\n",
      "R00013_reverse [{'cpd00011:0': 'O=C=O', 'cpd00843:0': 'O=CC(O)C(=O)O'}, {'cpd00040:0': 'O=CC(=O)O', 'cpd00040:1': 'O=CC(=O)O'}, 'rule0274']\n",
      "R00014 [{'cpd00011:0': 'O=C=O', 'cpd03049:0': 'Cc1ncc(C[n+]2c(C(C)O)sc(CCOP(=O)(O)OP(=O)(O)O)c2C)c(N)n1'}, {'cpd00020:0': 'CC(=O)C(=O)O', 'cpd00056:0': 'Cc1ncc(C[n+]2csc(CCOP(=O)(O)OP(=O)(O)O)c2C)c(N)n1'}, 'rule1134']\n",
      "R00014_reverse [{'cpd00020:0': 'CC(=O)C(=O)O', 'cpd00056:0': 'Cc1ncc(C[n+]2csc(CCOP(=O)(O)OP(=O)(O)O)c2C)c(N)n1'}, {'cpd00011:0': 'O=C=O', 'cpd03049:0': 'Cc1ncc(C[n+]2c(C(C)O)sc(CCOP(=O)(O)OP(=O)(O)O)c2C)c(N)n1'}, 'rule1133']\n",
      "R00015 [{'cpd00076:0': 'OC[C@H]1O[C@H](O[C@]2(CO)O[C@H](CO)[C@@H](O)[C@@H]2O)[C@H](O)[C@@H](O)[C@@H]1O', 'cpd00076:1': 'OC[C@H]1O[C@H](O[C@]2(CO)O[C@H](CO)[C@@H](O)[C@@H]2O)[C@H](O)[C@@H](O)[C@@H]1O'}, {'cpd02298:0': 'OC[C@H]1O[C@H](O[C@]2(CO[C@]3(CO)O[C@H](CO)[C@@H](O)[C@@H]3O)O[C@H](CO)[C@@H](O)[C@@H]2O)[C@H](O)[C@@H](O)[C@@H]1O', 'cpd19001:0': 'OC[C@H]1O[C@H](O)[C@H](O)[C@@H](O)[C@@H]1O'}, 'rule0001']\n",
      "R00015_reverse [{'cpd02298:0': 'OC[C@H]1O[C@H](O[C@]2(CO[C@]3(CO)O[C@H](CO)[C@@H](O)[C@@H]3O)O[C@H](CO)[C@@H](O)[C@@H]2O)[C@H](O)[C@@H](O)[C@@H]1O', 'cpd19001:0': 'OC[C@H]1O[C@H](O)[C@H](O)[C@@H](O)[C@@H]1O'}, {'cpd00076:0': 'OC[C@H]1O[C@H](O[C@]2(CO)O[C@H](CO)[C@@H](O)[C@@H]2O)[C@H](O)[C@@H](O)[C@@H]1O', 'cpd00076:1': 'OC[C@H]1O[C@H](O[C@]2(CO)O[C@H](CO)[C@@H](O)[C@@H]2O)[C@H](O)[C@@H](O)[C@@H]1O'}, 'rule0001']\n",
      "R00017 [{'cpd00025:0': 'OO', 'cpd00110:0': '*NC(=O)[C@H](CSC(C)C1=C(C)C2=N/C1=C\\\\c1c(C)c(CCC(=O)O)c3n1[Fe]n1/c(c(C)c(C(C)SC[C@H](NC(*)=O)C(=O)N*)/c1=C/2)=C\\\\C1=N/C(=C\\\\3)C(CCC(=O)O)=C1C)NC(*)=O', 'cpd00110:1': '*NC(=O)[C@H](CSC(C)C1=C(C)C2=N/C1=C\\\\c1c(C)c(CCC(=O)O)c3n1[Fe]n1/c(c(C)c(C(C)SC[C@H](NC(*)=O)C(=O)N*)/c1=C/2)=C\\\\C1=N/C(=C\\\\3)C(CCC(=O)O)=C1C)NC(*)=O'}, {'cpd00001:0': 'O', 'cpd00001:1': 'O', 'cpd00109:0': '*NC(=O)[C@H](CSC(C)C1=C(C)C2=N/C1=C\\\\c1c(C)c(CCC(=O)O)c3n1[Fe+]n1/c(c(C)c(C(C)SC[C@H](NC(*)=O)C(=O)N*)/c1=C/2)=C\\\\C1=N/C(=C\\\\3)C(CCC(=O)O)=C1C)NC(*)=O', 'cpd00109:1': '*NC(=O)[C@H](CSC(C)C1=C(C)C2=N/C1=C\\\\c1c(C)c(CCC(=O)O)c3n1[Fe+]n1/c(c(C)c(C(C)SC[C@H](NC(*)=O)C(=O)N*)/c1=C/2)=C\\\\C1=N/C(=C\\\\3)C(CCC(=O)O)=C1C)NC(*)=O'}, 'Unmapped']\n",
      "R00017_reverse [{'cpd00001:0': 'O', 'cpd00001:1': 'O', 'cpd00109:0': '*NC(=O)[C@H](CSC(C)C1=C(C)C2=N/C1=C\\\\c1c(C)c(CCC(=O)O)c3n1[Fe+]n1/c(c(C)c(C(C)SC[C@H](NC(*)=O)C(=O)N*)/c1=C/2)=C\\\\C1=N/C(=C\\\\3)C(CCC(=O)O)=C1C)NC(*)=O', 'cpd00109:1': '*NC(=O)[C@H](CSC(C)C1=C(C)C2=N/C1=C\\\\c1c(C)c(CCC(=O)O)c3n1[Fe+]n1/c(c(C)c(C(C)SC[C@H](NC(*)=O)C(=O)N*)/c1=C/2)=C\\\\C1=N/C(=C\\\\3)C(CCC(=O)O)=C1C)NC(*)=O'}, {'cpd00025:0': 'OO', 'cpd00110:0': '*NC(=O)[C@H](CSC(C)C1=C(C)C2=N/C1=C\\\\c1c(C)c(CCC(=O)O)c3n1[Fe]n1/c(c(C)c(C(C)SC[C@H](NC(*)=O)C(=O)N*)/c1=C/2)=C\\\\C1=N/C(=C\\\\3)C(CCC(=O)O)=C1C)NC(*)=O', 'cpd00110:1': '*NC(=O)[C@H](CSC(C)C1=C(C)C2=N/C1=C\\\\c1c(C)c(CCC(=O)O)c3n1[Fe]n1/c(c(C)c(C(C)SC[C@H](NC(*)=O)C(=O)N*)/c1=C/2)=C\\\\C1=N/C(=C\\\\3)C(CCC(=O)O)=C1C)NC(*)=O'}, 'Unmapped']\n",
      "R00018 [{'cpd00118:0': 'NCCCCN', 'cpd00118:1': 'NCCCCN'}, {'cpd00013:0': 'N', 'cpd03802:0': 'NCCCCNCCCCN'}, 'rule0298']\n",
      "R00018_reverse [{'cpd00013:0': 'N', 'cpd03802:0': 'NCCCCNCCCCN'}, {'cpd00118:0': 'NCCCCN', 'cpd00118:1': 'NCCCCN'}, 'rule0299']\n",
      "R00022 [{'cpd00001:0': 'O', 'cpd01157:0': 'CC(=O)N[C@H]1C(O)O[C@H](CO)[C@@H](O[C@@H]2O[C@H](CO)[C@@H](O)[C@H](O)[C@H]2NC(C)=O)[C@@H]1O'}, {'cpd02416:0': 'CC(=O)N[C@H]1[C@H](O)O[C@H](CO)[C@@H](O)[C@@H]1O', 'cpd02416:1': 'CC(=O)N[C@H]1[C@H](O)O[C@H](CO)[C@@H](O)[C@@H]1O'}, 'rule0007']\n",
      "R00022_reverse [{'cpd02416:0': 'CC(=O)N[C@H]1[C@H](O)O[C@H](CO)[C@@H](O)[C@@H]1O', 'cpd02416:1': 'CC(=O)N[C@H]1[C@H](O)O[C@H](CO)[C@@H](O)[C@@H]1O'}, {'cpd00001:0': 'O', 'cpd01157:0': 'CC(=O)N[C@H]1C(O)O[C@H](CO)[C@@H](O[C@@H]2O[C@H](CO)[C@@H](O)[C@H](O)[C@H]2NC(C)=O)[C@@H]1O'}, 'rule0006']\n",
      "R00023 [{'cpd00003:0': 'NC(=O)c1ccc[n+]([C@@H]2O[C@H](COP(=O)(O)OP(=O)(O)OC[C@H]3O[C@@H](n4cnc5c(N)ncnc54)[C@H](O)[C@@H]3O)[C@@H](O)[C@H]2O)c1', 'cpd00003:1': 'NC(=O)c1ccc[n+]([C@@H]2O[C@H](COP(=O)(O)OP(=O)(O)OC[C@H]3O[C@@H](n4cnc5c(N)ncnc54)[C@H](O)[C@@H]3O)[C@@H](O)[C@H]2O)c1', 'cpd00165:0': 'NO', 'cpd00165:1': 'NO'}, {'cpd00004:0': 'NC(=O)C1=CN([C@@H]2O[C@H](COP(=O)(O)OP(=O)(O)OC[C@H]3O[C@@H](n4cnc5c(N)ncnc54)[C@H](O)[C@@H]3O)[C@@H](O)[C@H]2O)C=CC1', 'cpd00004:1': 'NC(=O)C1=CN([C@@H]2O[C@H](COP(=O)(O)OP(=O)(O)OC[C@H]3O[C@@H](n4cnc5c(N)ncnc54)[C@H](O)[C@@H]3O)[C@@H](O)[C@H]2O)C=CC1', 'cpd01252:0': 'O/N=N/O'}, 'rule0573']\n"
     ]
    }
   ],
   "source": [
    "i = 0\n",
    "for k,v in kegg.items():\n",
    "    print(k, v)\n",
    "    i += 1\n",
    "    if i > 20:\n",
    "        break\n"
   ]
  },
  {
   "cell_type": "code",
   "execution_count": 13,
   "metadata": {},
   "outputs": [],
   "source": [
    "brenda_as_is = {}\n",
    "i = 0\n",
    "for k,v in brenda.items():\n",
    "    brenda_as_is[k] = [v[0], v[1]]\n",
    "    # print(k, v[0], v[1])\n",
    "    # i += 1\n",
    "    # if i > 10:\n",
    "    #     break\n",
    "\n",
    "save_json(brenda_as_is, '/home/stef/Tb/reaction_mapping/mapping/brenda_as_is.json')"
   ]
  },
  {
   "cell_type": "code",
   "execution_count": 14,
   "metadata": {},
   "outputs": [],
   "source": [
    "kegg_as_is = {}\n",
    "i = 0\n",
    "for k,v in kegg.items():\n",
    "    kegg_as_is[k] = [v[0], v[1]]\n",
    "    # print(k, v[0], v[1])\n",
    "    # i += 1\n",
    "    # if i > 10:\n",
    "    #     break\n",
    "\n",
    "save_json(kegg_as_is, '/home/stef/Tb/reaction_mapping/mapping/kegg_as_is.json')"
   ]
  },
  {
   "cell_type": "code",
   "execution_count": 16,
   "metadata": {},
   "outputs": [
    {
     "data": {
      "text/plain": [
       "(56008, 12990, 22036)"
      ]
     },
     "execution_count": 16,
     "metadata": {},
     "output_type": "execute_result"
    }
   ],
   "source": [
    "len(brenda_as_is), len(kegg_as_is), len(mc)"
   ]
  },
  {
   "cell_type": "code",
   "execution_count": 12,
   "metadata": {},
   "outputs": [
    {
     "name": "stdout",
     "output_type": "stream",
     "text": [
      "RXN-12199 [{'Pi:0': 'O=P(O)(O)O', 'Pi:1': 'O=P(O)(O)O', 'UMP:0': 'O=c1ccn([C@@H]2O[C@H](COP(=O)(O)O)[C@@H](O)[C@H]2O)c(=O)[nH]1'}, {'UTP:0': 'O=c1ccn([C@@H]2O[C@H](COP(=O)(O)OP(=O)(O)OP(=O)(O)O)[C@@H](O)[C@H]2O)c(=O)[nH]1', 'WATER:0': 'O', 'WATER:1': 'O'}]\n",
      "1.1.1.1_000 [{'(-)-perillyl alcohol:0': 'C=C(C)C1CC=C(CO)CC1', 'NAD+:0': 'NC(=O)c1ccc[n+](C2OC(COP(=O)(O)OP(=O)(O)OCC3OC(n4cnc5c(N)ncnc54)C(O)C3O)C(O)C2O)c1'}, {'(S)-perillaldehyde:0': 'C=C(C)C1CC=C(C=O)CC1', 'NADH:0': 'NC(=O)C1=CN(C2OC(COP(=O)(O)OP(=O)(O)OCC3OC(n4cnc5c(N)ncnc54)C(O)C3O)C(O)C2O)C=CC1'}]\n",
      "R00006 [{'cpd00011:0': 'O=C=O', 'cpd00668:0': 'CC(=O)C(C)(O)C(=O)O'}, {'cpd00020:0': 'CC(=O)C(=O)O', 'cpd00020:1': 'CC(=O)C(=O)O'}]\n"
     ]
    }
   ],
   "source": [
    "i = 0\n",
    "for k,v in mc.items():\n",
    "    print(k, v)\n",
    "    i += 1\n",
    "    if i > 0:\n",
    "        break\n",
    "\n",
    "i = 0\n",
    "for k,v in brenda_as_is.items():\n",
    "    print(k, v)\n",
    "    i += 1\n",
    "    if i > 0:\n",
    "        break\n",
    "\n",
    "i = 0\n",
    "for k,v in kegg_as_is.items():\n",
    "    print(k, v)\n",
    "    i += 1\n",
    "    if i > 0:\n",
    "        break"
   ]
  }
 ],
 "metadata": {
  "kernelspec": {
   "display_name": "mine",
   "language": "python",
   "name": "python3"
  },
  "language_info": {
   "codemirror_mode": {
    "name": "ipython",
    "version": 3
   },
   "file_extension": ".py",
   "mimetype": "text/x-python",
   "name": "python",
   "nbconvert_exporter": "python",
   "pygments_lexer": "ipython3",
   "version": "3.7.12"
  },
  "orig_nbformat": 4
 },
 "nbformat": 4,
 "nbformat_minor": 2
}
