{
 "cells": [
  {
   "cell_type": "code",
   "execution_count": 1,
   "metadata": {},
   "outputs": [],
   "source": [
    "import csv\n",
    "import random\n",
    "import sys\n",
    "sys.path.append('/home/stef/reaction_mapping')\n",
    "from utils import load_json, save_json"
   ]
  },
  {
   "cell_type": "markdown",
   "metadata": {},
   "source": [
    "## Assemble batched mapping results into one csv"
   ]
  },
  {
   "cell_type": "code",
   "execution_count": 2,
   "metadata": {},
   "outputs": [],
   "source": [
    "# Settings - BE CAREFUL DONT OVERWRITE\n",
    "mapping_dir = \"../mapping/\"\n",
    "save_dir = \"../mapping/results/\"\n",
    "# prefs = ['mapping', 'missing_smiles', 'smiles_parse_issues']\n",
    "prefs = ['mapping']\n",
    "batch_mapping_fn_pref = '_swissprot_min_rules_enforce_cof_batch_'\n",
    "save_to = \"_swissprot_min_rules_enforce_cof.csv\"\n",
    "n = 20 # Batches\n",
    "\n",
    "for pref in prefs:\n",
    "    for i in range(n):\n",
    "        this_batch = []\n",
    "        this_path = mapping_dir + pref + batch_mapping_fn_pref + f\"{i}.csv\"\n",
    "        \n",
    "        # Read in batch\n",
    "        with open(this_path, 'r') as f:\n",
    "            reader = csv.reader(f)\n",
    "            for row in reader:\n",
    "                this_batch.append(row)\n",
    "\n",
    "        # Append to full mapping file\n",
    "        with open(save_dir + pref + save_to, 'a') as f:\n",
    "            writer = csv.writer(f)\n",
    "            writer.writerows(this_batch)"
   ]
  },
  {
   "cell_type": "markdown",
   "metadata": {},
   "source": [
    "## Sample latest Metacyc reaction dict"
   ]
  },
  {
   "cell_type": "code",
   "execution_count": 3,
   "metadata": {},
   "outputs": [
    {
     "name": "stdout",
     "output_type": "stream",
     "text": [
      "Full set has 22036 reactions.\n",
      "973\n"
     ]
    }
   ],
   "source": [
    "# Settings\n",
    "full_rxns_path = '../mapping/mc_v21_as_is.json'\n",
    "k = 1000 # How many rxns to choose\n",
    "seed = 1234 # Random seed\n",
    "save_to = f\"../mapping/{k}_random_mc_v21_rxns_rnd_seed_{seed}.json\"\n",
    "\n",
    "rxns = load_json(full_rxns_path) # Load full reaction dict\n",
    "\n",
    "print(\"Full set has {} reactions.\".format(len(rxns.keys())))\n",
    "\n",
    "# Take random subsample of mc rxns and save\n",
    "random.seed(seed)\n",
    "rxn_ids = random.choices(list(rxns.keys()), k=k)\n",
    "subset_rxns = {key:rxns[key] for key in rxn_ids}\n",
    "\n",
    "# Save reaction dict\n",
    "save_json(subset_rxns, save_to)\n",
    "\n",
    "print(len(subset_rxns))"
   ]
  },
  {
   "cell_type": "code",
   "execution_count": null,
   "metadata": {},
   "outputs": [],
   "source": []
  },
  {
   "cell_type": "code",
   "execution_count": 3,
   "metadata": {},
   "outputs": [
    {
     "data": {
      "text/html": [
       "<div>\n",
       "<style scoped>\n",
       "    .dataframe tbody tr th:only-of-type {\n",
       "        vertical-align: middle;\n",
       "    }\n",
       "\n",
       "    .dataframe tbody tr th {\n",
       "        vertical-align: top;\n",
       "    }\n",
       "\n",
       "    .dataframe thead th {\n",
       "        text-align: right;\n",
       "    }\n",
       "</style>\n",
       "<table border=\"1\" class=\"dataframe\">\n",
       "  <thead>\n",
       "    <tr style=\"text-align: right;\">\n",
       "      <th></th>\n",
       "      <th>Reactions</th>\n",
       "      <th>Rules</th>\n",
       "      <th>Reaction centers</th>\n",
       "    </tr>\n",
       "  </thead>\n",
       "  <tbody>\n",
       "    <tr>\n",
       "      <th>0</th>\n",
       "      <td>R1b14b079add4f5306e5f50c276a3b0ffae6b7856d3703...</td>\n",
       "      <td>[]</td>\n",
       "      <td>[]</td>\n",
       "    </tr>\n",
       "    <tr>\n",
       "      <th>1</th>\n",
       "      <td>R16bcd71a77b7fd97bf2aca7eed3d08cb04719de80c312...</td>\n",
       "      <td>[]</td>\n",
       "      <td>[]</td>\n",
       "    </tr>\n",
       "    <tr>\n",
       "      <th>2</th>\n",
       "      <td>R84126efbb9122177f50f81fcff58422c31a5cf7ef7254...</td>\n",
       "      <td>['rule0311']</td>\n",
       "      <td>[((8, 7), (0,))]</td>\n",
       "    </tr>\n",
       "    <tr>\n",
       "      <th>3</th>\n",
       "      <td>Rf5898861a951c8ea3794b4c3e10db88fb0fb78bf26f44...</td>\n",
       "      <td>['rule0310']</td>\n",
       "      <td>[((7,), (26, 27))]</td>\n",
       "    </tr>\n",
       "    <tr>\n",
       "      <th>4</th>\n",
       "      <td>R39b0398e73b68c538a28e03efee4314823112b67ad282...</td>\n",
       "      <td>[]</td>\n",
       "      <td>[]</td>\n",
       "    </tr>\n",
       "  </tbody>\n",
       "</table>\n",
       "</div>"
      ],
      "text/plain": [
       "                                           Reactions         Rules  \\\n",
       "0  R1b14b079add4f5306e5f50c276a3b0ffae6b7856d3703...            []   \n",
       "1  R16bcd71a77b7fd97bf2aca7eed3d08cb04719de80c312...            []   \n",
       "2  R84126efbb9122177f50f81fcff58422c31a5cf7ef7254...  ['rule0311']   \n",
       "3  Rf5898861a951c8ea3794b4c3e10db88fb0fb78bf26f44...  ['rule0310']   \n",
       "4  R39b0398e73b68c538a28e03efee4314823112b67ad282...            []   \n",
       "\n",
       "     Reaction centers  \n",
       "0                  []  \n",
       "1                  []  \n",
       "2    [((8, 7), (0,))]  \n",
       "3  [((7,), (26, 27))]  \n",
       "4                  []  "
      ]
     },
     "execution_count": 3,
     "metadata": {},
     "output_type": "execute_result"
    }
   ],
   "source": [
    "import pandas as pd\n",
    "\n",
    "df = pd.read_csv(\"../mapping/test_res_v4.csv\", sep='\\t')\n",
    "df.head()"
   ]
  }
 ],
 "metadata": {
  "kernelspec": {
   "display_name": "mine",
   "language": "python",
   "name": "python3"
  },
  "language_info": {
   "codemirror_mode": {
    "name": "ipython",
    "version": 3
   },
   "file_extension": ".py",
   "mimetype": "text/x-python",
   "name": "python",
   "nbconvert_exporter": "python",
   "pygments_lexer": "ipython3",
   "version": "3.7.12"
  },
  "orig_nbformat": 4
 },
 "nbformat": 4,
 "nbformat_minor": 2
}
