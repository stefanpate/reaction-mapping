{
 "cells": [
  {
   "cell_type": "code",
   "execution_count": 5,
   "metadata": {},
   "outputs": [],
   "source": [
    "import csv\n",
    "import random\n",
    "import sys\n",
    "sys.path.append('/home/stef/reaction_mapping')\n",
    "from utils import load_json, save_json"
   ]
  },
  {
   "cell_type": "markdown",
   "metadata": {},
   "source": [
    "## Assemble batched mapping results into one csv"
   ]
  },
  {
   "cell_type": "code",
   "execution_count": 2,
   "metadata": {},
   "outputs": [],
   "source": [
    "# Settings - BE CAREFUL DONT OVERWRITE\n",
    "mapping_dir = \"../mapping/\"\n",
    "save_dir = \"../mapping/results/\"\n",
    "# prefs = ['mapping', 'missing_smiles', 'smiles_parse_issues']\n",
    "prefs = ['mapping']\n",
    "batch_mapping_fn_pref = '_swissprot_min_rules_enforce_cof_batch_'\n",
    "save_to = \"_swissprot_min_rules_enforce_cof.csv\"\n",
    "n = 20 # Batches\n",
    "\n",
    "for pref in prefs:\n",
    "    for i in range(n):\n",
    "        this_batch = []\n",
    "        this_path = mapping_dir + pref + batch_mapping_fn_pref + f\"{i}.csv\"\n",
    "        \n",
    "        # Read in batch\n",
    "        with open(this_path, 'r') as f:\n",
    "            reader = csv.reader(f)\n",
    "            for row in reader:\n",
    "                this_batch.append(row)\n",
    "\n",
    "        # Append to full mapping file\n",
    "        with open(save_dir + pref + save_to, 'a') as f:\n",
    "            writer = csv.writer(f)\n",
    "            writer.writerows(this_batch)"
   ]
  },
  {
   "cell_type": "markdown",
   "metadata": {},
   "source": [
    "# Consolidate operator-reaction-center batch mapping jsons"
   ]
  },
  {
   "cell_type": "code",
   "execution_count": 8,
   "metadata": {},
   "outputs": [
    {
     "name": "stdout",
     "output_type": "stream",
     "text": [
      "0\n",
      "1\n",
      "2\n",
      "3\n",
      "4\n",
      "5\n",
      "6\n",
      "7\n",
      "8\n",
      "9\n",
      "10\n",
      "11\n",
      "12\n",
      "13\n",
      "14\n",
      "15\n",
      "16\n",
      "17\n",
      "18\n",
      "19\n"
     ]
    }
   ],
   "source": [
    "# Settings - BE CAREFUL DONT OVERWRITE\n",
    "mapping_dir = \"../mapping/\"\n",
    "save_dir = \"../mapping/results/\"\n",
    "prefs = ['mapping']\n",
    "batch_mapping_fn_pref = '_swissprot_min_rules_enforce_cof_batch_'\n",
    "save_to = \"_swissprot_240310_v2_min_rules_enforce_cof.json\"\n",
    "consolidated_json = {}\n",
    "n = 20 # Batches\n",
    "\n",
    "for pref in prefs:\n",
    "    for i in range(n):\n",
    "        print(i)\n",
    "        this_path = mapping_dir + pref + batch_mapping_fn_pref + f\"{i}.json\"\n",
    "        \n",
    "        # Read in batch\n",
    "        batch = load_json(this_path)\n",
    "\n",
    "        for k,v in batch.items():\n",
    "            consolidated_json[k] = v\n",
    "\n",
    "\n",
    "save_json(consolidated_json, f\"{save_dir}{pref}{save_to}\")"
   ]
  }
 ],
 "metadata": {
  "kernelspec": {
   "display_name": "mine",
   "language": "python",
   "name": "python3"
  },
  "language_info": {
   "codemirror_mode": {
    "name": "ipython",
    "version": 3
   },
   "file_extension": ".py",
   "mimetype": "text/x-python",
   "name": "python",
   "nbconvert_exporter": "python",
   "pygments_lexer": "ipython3",
   "version": "3.7.12"
  },
  "orig_nbformat": 4
 },
 "nbformat": 4,
 "nbformat_minor": 2
}
