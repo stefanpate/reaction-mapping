{
 "cells": [
  {
   "cell_type": "code",
   "execution_count": 1,
   "metadata": {},
   "outputs": [],
   "source": [
    "import csv\n",
    "import random\n",
    "import sys\n",
    "sys.path.append('/home/stef/Tb/reaction_mapping')\n",
    "from utils import load_json, save_json"
   ]
  },
  {
   "cell_type": "markdown",
   "metadata": {},
   "source": [
    "## Assemble batched mapping results into one csv"
   ]
  },
  {
   "cell_type": "code",
   "execution_count": 2,
   "metadata": {},
   "outputs": [],
   "source": [
    "# Settings - BE CAREFUL DONT OVERWRITE\n",
    "mapping_dir = \"../mapping/\"\n",
    "save_dir = \"../mapping/results/\"\n",
    "prefs = ['mapping', 'missing_smiles', 'smiles_parse_issues']\n",
    "batch_mapping_fn_pref = '_mc_221214_rxns_min_cof_rules_batch_'\n",
    "save_to = \"_mc_221214_min_rules_enforce_cof.csv\"\n",
    "n = 10 # Batches\n",
    "\n",
    "for pref in prefs:\n",
    "    for i in range(n):\n",
    "        this_batch = []\n",
    "        this_path = mapping_dir + pref + batch_mapping_fn_pref + f\"{i}.csv\"\n",
    "        \n",
    "        # Read in batch\n",
    "        with open(this_path, 'r') as f:\n",
    "            reader = csv.reader(f)\n",
    "            for row in reader:\n",
    "                this_batch.append(row)\n",
    "\n",
    "        # Append to full mapping file\n",
    "        with open(save_dir + pref + save_to, 'a') as f:\n",
    "            writer = csv.writer(f)\n",
    "            writer.writerows(this_batch)"
   ]
  },
  {
   "cell_type": "markdown",
   "metadata": {},
   "source": [
    "## Sample latest Metacyc reaction dict"
   ]
  },
  {
   "cell_type": "code",
   "execution_count": 3,
   "metadata": {},
   "outputs": [
    {
     "name": "stdout",
     "output_type": "stream",
     "text": [
      "Full set has 22036 reactions.\n",
      "973\n"
     ]
    }
   ],
   "source": [
    "# Settings\n",
    "full_rxns_path = '../mapping/mc_v21_as_is.json'\n",
    "k = 1000 # How many rxns to choose\n",
    "seed = 1234 # Random seed\n",
    "save_to = f\"../mapping/{k}_random_mc_v21_rxns_rnd_seed_{seed}.json\"\n",
    "\n",
    "rxns = load_json(full_rxns_path) # Load full reaction dict\n",
    "\n",
    "print(\"Full set has {} reactions.\".format(len(rxns.keys())))\n",
    "\n",
    "# Take random subsample of mc rxns and save\n",
    "random.seed(seed)\n",
    "rxn_ids = random.choices(list(rxns.keys()), k=k)\n",
    "subset_rxns = {key:rxns[key] for key in rxn_ids}\n",
    "\n",
    "# Save reaction dict\n",
    "save_json(subset_rxns, save_to)\n",
    "\n",
    "print(len(subset_rxns))"
   ]
  }
 ],
 "metadata": {
  "kernelspec": {
   "display_name": "mine",
   "language": "python",
   "name": "python3"
  },
  "language_info": {
   "codemirror_mode": {
    "name": "ipython",
    "version": 3
   },
   "file_extension": ".py",
   "mimetype": "text/x-python",
   "name": "python",
   "nbconvert_exporter": "python",
   "pygments_lexer": "ipython3",
   "version": "3.7.12"
  },
  "orig_nbformat": 4
 },
 "nbformat": 4,
 "nbformat_minor": 2
}
