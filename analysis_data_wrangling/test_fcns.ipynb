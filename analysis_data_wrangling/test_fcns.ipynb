{
 "cells": [
  {
   "cell_type": "code",
   "execution_count": 17,
   "metadata": {},
   "outputs": [],
   "source": [
    "import csv\n",
    "import json\n",
    "import numpy as np"
   ]
  },
  {
   "attachments": {},
   "cell_type": "markdown",
   "metadata": {},
   "source": [
    "Count the number of reactants prescribed by a smarts string"
   ]
  },
  {
   "cell_type": "code",
   "execution_count": 16,
   "metadata": {},
   "outputs": [
    {
     "name": "stdout",
     "output_type": "stream",
     "text": [
      "[]\n"
     ]
    }
   ],
   "source": [
    "rules_path = 'minimal1224_all_uniprot.tsv'\n",
    "\n",
    "# Read in rules\n",
    "rules = []\n",
    "with open(rules_path, 'r') as f:\n",
    "    reader = csv.reader(f, delimiter='\\t')\n",
    "    for row in reader:\n",
    "        rules.append([row[0], row[1], row[2]])\n",
    "\n",
    "rules = rules[1:] # Remove header\n",
    "\n",
    "def count_reactants(rule_smarts):\n",
    "    '''\n",
    "    Counts number of reactants in a SMARTS-\n",
    "    encoded operator\n",
    "    '''\n",
    "    reactants = rule_smarts.split('>>')[0]\n",
    "    dot_split = reactants.split('.') # Reactants separated by '.'\n",
    "\n",
    "    # But must catch where pieces of a single compound\n",
    "    # are split by '.', in which case they'll be surrounded by ()\n",
    "    left_split_parens = []\n",
    "    right_split_parens = []\n",
    "    for i, elt in enumerate(dot_split):\n",
    "        if (elt[0] == '(') & (elt[-1] != ')'):\n",
    "            left_split_parens.append(i)\n",
    "        elif (elt[0] != '(') & (elt[-1] == ')'):\n",
    "            right_split_parens.append(i)\n",
    "            \n",
    "    left_split_parens, right_split_parens = np.array(left_split_parens), np.array(right_split_parens)\n",
    "    overcount = (right_split_parens - left_split_parens).sum()\n",
    "\n",
    "    n_reactants = len(dot_split) - overcount\n",
    "    return int(n_reactants)\n",
    "\n",
    "reactant_counts = []\n",
    "ground_truth = []\n",
    "for elt in rules:\n",
    "    reactant_counts.append(count_reactants(elt[2]))\n",
    "    ground_truth.append(len(elt[1].split(';')))\n",
    "\n",
    "err_idx = []\n",
    "for i in range(len(rules)):\n",
    "    if reactant_counts[i] - ground_truth[i] != 0:\n",
    "        err_idx.append(i)\n",
    "\n",
    "print(err_idx)"
   ]
  },
  {
   "cell_type": "code",
   "execution_count": 23,
   "metadata": {},
   "outputs": [
    {
     "name": "stdout",
     "output_type": "stream",
     "text": [
      "|4-COUMARATE--COA-LIGASE-RXN| [{'|COUMARATE|': 'C(=O)([O-])/C=C/C1(\\\\C=C/C(/O)=C\\\\C=1)', '|CO-A|': 'CC(C)(COP([O-])(=O)OP(OC[C@H]3(O[C@@H](N1(C2(\\\\N=C/N=C(C(\\\\N=C/1)=2)/N)))[C@H](O)[C@H](OP([O-])(=O)[O-])3))(=O)[O-])[C@@H](O)C(=O)NCCC(=O)NCCS', '|ATP|': 'C(OP(=O)([O-])OP(=O)([O-])OP(=O)([O-])[O-])[C@H]3(O[C@@H](N1(C2(\\\\C(\\\\N=C/1)=C(N)/N=C\\\\N=2)))[C@H](O)[C@H](O)3)'}, {'|P-COUMAROYL-COA|': 'CC(C)(COP(OP([O-])(OC[C@@H]1([C@@H](OP([O-])([O-])=O)[C@@H](O)[C@@H](O1)N2(C3(\\\\N=C/N=C(C(\\\\N=C/2)=3)/N))))=O)([O-])=O)[C@@H](O)C(=O)NCCC(=O)NCCSC(=O)/C=C/C4(\\\\C=C/C(/O)=C\\\\C=4)', '|AMP|': 'C(OP(=O)([O-])[O-])[C@H]3(O[C@@H](N1(C2(\\\\C(\\\\N=C/1)=C(N)/N=C\\\\N=2)))[C@H](O)[C@H](O)3)', '|PPI|': 'O=P(O)(OP([O-])([O-])=O)[O-]'}]\n",
      "|RXN-16531| {'|ACETYL-COA|': 'CC(=O)SCCNC(=O)CCNC(=O)[C@H](O)C(C)(C)COP(OP([O-])(OC[C@@H]1([C@@H](OP([O-])([O-])=O)[C@@H](O)[C@@H](O1)N2(C3(\\\\N=C/N=C(C(\\\\N=C/2)=3)/N))))=O)([O-])=O', '|MALONYL-COA|': 'CC(C)([C@@H](O)C(=O)NCCC(=O)NCCSC(=O)CC(=O)[O-])COP(=O)(OP(=O)(OC[C@@H]1([C@@H](OP([O-])(=O)[O-])[C@@H](O)[C@@H](O1)N2(C3(\\\\N=C/N=C(C(\\\\N=C/2)=3)/N))))[O-])[O-]', '|ACP|': None, '|PROTON|': '[H+]'}\n",
      "19597\n"
     ]
    }
   ],
   "source": [
    "pks_rxns_path = 'rxn_dict_metacyc_ids.json'\n",
    "metacyc_rxns_path = 'metacyc_all_reactions_smiles_221214.json'\n",
    "\n",
    "# Read in polyketide reactions\n",
    "with open(pks_rxns_path, 'r') as f:\n",
    "    pk_rxn_dict = json.load(f)\n",
    "\n",
    "for k,v in pk_rxn_dict.items():\n",
    "    print(k, v)\n",
    "    break\n",
    "\n",
    "# Read in all metacyc reactions\n",
    "with open(metacyc_rxns_path, 'r') as f:\n",
    "    mc_rxn_dict = json.load(f)\n",
    "\n",
    "for k,v in mc_rxn_dict.items():\n",
    "    print(k, v[0])\n",
    "    break\n",
    "\n",
    "print(len(list(mc_rxn_dict.keys())))"
   ]
  }
 ],
 "metadata": {
  "kernelspec": {
   "display_name": "mine",
   "language": "python",
   "name": "python3"
  },
  "language_info": {
   "codemirror_mode": {
    "name": "ipython",
    "version": 3
   },
   "file_extension": ".py",
   "mimetype": "text/x-python",
   "name": "python",
   "nbconvert_exporter": "python",
   "pygments_lexer": "ipython3",
   "version": "3.7.12"
  },
  "orig_nbformat": 4
 },
 "nbformat": 4,
 "nbformat_minor": 2
}
