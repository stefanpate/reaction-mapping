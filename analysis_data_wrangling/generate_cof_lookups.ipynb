{
 "cells": [
  {
   "cell_type": "code",
   "execution_count": 1,
   "metadata": {},
   "outputs": [],
   "source": [
    "import pandas as pd\n",
    "import sys\n",
    "sys.path.append('/home/stef/Tb/reaction_mapping')\n",
    "from utils import save_json, load_json, sanitize, neutralize_atoms\n",
    "from collections import defaultdict\n",
    "from rdkit import Chem\n",
    "from rdkit.Chem import AllChem, Draw\n",
    "m2s = Chem.MolToSmiles\n",
    "s2m = Chem.MolFromSmiles"
   ]
  },
  {
   "cell_type": "code",
   "execution_count": 2,
   "metadata": {},
   "outputs": [],
   "source": [
    "# Load stuff in\n",
    "\n",
    "min_rules_path = '../mapping/minimal1224_all_uniprot.tsv'\n",
    "imt_rules_path = '../mapping/JN3604IMT_rules.tsv'\n",
    "paired_labels_path = 'cofactor_pair_alldb.json'\n",
    "unpaired_labels_path = 'cofactor_list_alldb.tsv'\n",
    "\n",
    "min_df = pd.read_csv(min_rules_path, delimiter='\\t')\n",
    "min_df.set_index('Name', inplace=True)\n",
    "\n",
    "imt_df = pd.read_csv(imt_rules_path, delimiter='\\t')\n",
    "imt_df.set_index('Name', inplace=True)\n",
    "\n",
    "paired_cofactors = load_json(paired_labels_path)\n",
    "unpaired_df = pd.read_csv(unpaired_labels_path, delimiter='\\t')"
   ]
  },
  {
   "cell_type": "markdown",
   "metadata": {},
   "source": [
    "# Compare cofactor labels: my list, min rules, imt rules"
   ]
  },
  {
   "cell_type": "code",
   "execution_count": null,
   "metadata": {},
   "outputs": [],
   "source": [
    "min_labels = []\n",
    "for elt in min_df[\"Reactants\"].to_list():\n",
    "    min_labels += [subelt.lower() for subelt in elt.split(';')]\n",
    "\n",
    "for elt in min_df[\"Products\"].to_list():\n",
    "    min_labels += [subelt.lower() for subelt in elt.split(';')]\n",
    "min_labels = set(min_labels)\n",
    "\n",
    "\n",
    "imt_labels = []\n",
    "for elt in imt_df[\"Reactants\"].to_list():\n",
    "    imt_labels += [subelt.lower() for subelt in elt.split(';')]\n",
    "\n",
    "for elt in imt_df[\"Products\"].to_list():\n",
    "    imt_labels += [subelt.lower() for subelt in elt.split(';')]\n",
    "imt_labels = set(imt_labels)\n",
    "\n",
    "# Assemble my set\n",
    "temp = []\n",
    "for k in paired_cofactors.keys():\n",
    "    temp += [elt.lower() for elt in k.split(',')]\n",
    "\n",
    "paired_labels = set(temp)\n",
    "unpaired_labels = set([elt.lower() for elt in unpaired_df['replacement'].to_list()])\n",
    "\n",
    "my_set = paired_labels | unpaired_labels"
   ]
  },
  {
   "cell_type": "markdown",
   "metadata": {},
   "source": [
    "Min rules have a few more cofactors than imt rules"
   ]
  },
  {
   "cell_type": "code",
   "execution_count": 26,
   "metadata": {},
   "outputs": [
    {
     "data": {
      "text/plain": [
       "{'co', 'formyl_acceptor_cof', 'formyl_donor_cof', 'hi'}"
      ]
     },
     "execution_count": 26,
     "metadata": {},
     "output_type": "execute_result"
    }
   ],
   "source": [
    "min_labels - imt_labels"
   ]
  },
  {
   "cell_type": "code",
   "execution_count": 27,
   "metadata": {},
   "outputs": [
    {
     "data": {
      "text/plain": [
       "set()"
      ]
     },
     "execution_count": 27,
     "metadata": {},
     "output_type": "execute_result"
    }
   ],
   "source": [
    "imt_labels - min_labels"
   ]
  },
  {
   "cell_type": "markdown",
   "metadata": {},
   "source": [
    "I am not missing any cofactors from either min or imt rules"
   ]
  },
  {
   "cell_type": "code",
   "execution_count": 28,
   "metadata": {},
   "outputs": [
    {
     "data": {
      "text/plain": [
       "{'any'}"
      ]
     },
     "execution_count": 28,
     "metadata": {},
     "output_type": "execute_result"
    }
   ],
   "source": [
    "min_labels - my_set"
   ]
  },
  {
   "cell_type": "code",
   "execution_count": 29,
   "metadata": {},
   "outputs": [
    {
     "data": {
      "text/plain": [
       "{'any'}"
      ]
     },
     "execution_count": 29,
     "metadata": {},
     "output_type": "execute_result"
    }
   ],
   "source": [
    "imt_labels - my_set"
   ]
  },
  {
   "cell_type": "markdown",
   "metadata": {},
   "source": [
    "I have cofactors that min and imt rules do not. Need to get rid of these"
   ]
  },
  {
   "cell_type": "code",
   "execution_count": 30,
   "metadata": {},
   "outputs": [
    {
     "data": {
      "text/plain": [
       "{'ascorbate_cof', 'ascorbate_radical_cof', 'co3', 'h+', 'hbr'}"
      ]
     },
     "execution_count": 30,
     "metadata": {},
     "output_type": "execute_result"
    }
   ],
   "source": [
    "my_set - min_labels"
   ]
  },
  {
   "cell_type": "code",
   "execution_count": 31,
   "metadata": {},
   "outputs": [
    {
     "data": {
      "text/plain": [
       "{'ascorbate_cof',\n",
       " 'ascorbate_radical_cof',\n",
       " 'co',\n",
       " 'co3',\n",
       " 'formyl_acceptor_cof',\n",
       " 'formyl_donor_cof',\n",
       " 'h+',\n",
       " 'hbr',\n",
       " 'hi'}"
      ]
     },
     "execution_count": 31,
     "metadata": {},
     "output_type": "execute_result"
    }
   ],
   "source": [
    "my_set - imt_labels"
   ]
  },
  {
   "cell_type": "markdown",
   "metadata": {},
   "source": [
    "# Generate smiles to cofactor class look up tables for template matching during mapping"
   ]
  },
  {
   "cell_type": "code",
   "execution_count": 39,
   "metadata": {},
   "outputs": [
    {
     "name": "stderr",
     "output_type": "stream",
     "text": [
      "RDKit WARNING: [15:41:24] WARNING: not removing hydrogen atom without neighbors\n",
      "[15:41:24] WARNING: not removing hydrogen atom without neighbors\n",
      "RDKit WARNING: [15:41:24] WARNING: not removing hydrogen atom without neighbors\n",
      "[15:41:24] WARNING: not removing hydrogen atom without neighbors\n"
     ]
    }
   ],
   "source": [
    "\n",
    "seed2smi = load_json('seed_id_to_smiles.json')\n",
    "seed2aliases = load_json('seed_id_to_aliases.json')\n",
    "\n",
    "# Make dict of unpaired_cofactors label2name\n",
    "unpaired_cofactors = defaultdict(list)\n",
    "for idx, row in unpaired_df.iterrows():\n",
    "    unpaired_cofactors[row[\"replacement\"]].append(row[\"molfile\"])\n",
    "\n",
    "smi2unpaired_cof = {}\n",
    "# Try with seed ids first\n",
    "for k, v in unpaired_cofactors.items():\n",
    "    for elt in v:\n",
    "        if elt[:3] == 'cpd':\n",
    "            if elt in seed2smi:\n",
    "                smi = m2s(neutralize_atoms(s2m(seed2smi[elt])))\n",
    "                smi2unpaired_cof[sanitize([smi])[0]] = k\n",
    "\n",
    "# Finish with aliases if necessary\n",
    "for k,v in unpaired_cofactors.items():\n",
    "    if k not in smi2unpaired_cof.values():\n",
    "        for elt in v:\n",
    "            elt = elt.lower()\n",
    "            for k2, v2 in seed2aliases.items():\n",
    "                if elt in v2:\n",
    "                    smi = m2s(neutralize_atoms(s2m(seed2smi[k2])))\n",
    "                    smi2unpaired_cof[sanitize([smi])[0]] = k\n",
    "\n",
    "save_json(smi2unpaired_cof, '../mapping/smi2unpaired_cof.json')\n",
    "\n",
    "rm_from_min = ['CO3', 'H+', 'HBr']\n",
    "rm_from_imt = rm_from_min + ['HI', 'CO']\n",
    "\n",
    "smi2unpaired_cof_min = smi2unpaired_cof.copy()\n",
    "smi2unpaired_cof_imt = smi2unpaired_cof.copy()\n",
    "\n",
    "rm_smi_from_min = []\n",
    "rm_smi_from_imt = []\n",
    "for k,v in smi2unpaired_cof.items():\n",
    "    if v in rm_from_min:\n",
    "        rm_smi_from_min.append(k)\n",
    "    if v in rm_from_imt:\n",
    "        rm_smi_from_imt.append(k)\n",
    "\n",
    "for elt in rm_smi_from_min:\n",
    "    smi2unpaired_cof_min.pop(elt)\n",
    "\n",
    "for elt in rm_smi_from_imt:\n",
    "    smi2unpaired_cof_imt.pop(elt)\n",
    "\n",
    "save_json(smi2unpaired_cof_min, '../mapping/smi2unpaired_cof_min.json')\n",
    "save_json(smi2unpaired_cof_imt, '../mapping/smi2unpaired_cof_imt.json')"
   ]
  },
  {
   "cell_type": "code",
   "execution_count": 40,
   "metadata": {},
   "outputs": [],
   "source": [
    "# New smiles-based cof look up for paired cofactors\n",
    "\n",
    "manual_found = pd.read_csv('manual_cofactors.csv', sep=',')\n",
    "manual_found.set_index(\"Name\", inplace=True)\n",
    "\n",
    "smi2paired_cof = {}\n",
    "missing_cofactors = [] # Missing compounds\n",
    "for k, v in paired_cofactors.items():\n",
    "    for pair in v:\n",
    "        temp_pair = []\n",
    "        for elt in pair[1:]:\n",
    "            found = False\n",
    "            if elt[:3] == 'cpd': # If is a seed id, search seed2smi\n",
    "                if elt in seed2smi:\n",
    "                    temp_pair.append(seed2smi[elt])\n",
    "                    found = True\n",
    "                elif (elt.lower() in manual_found.index) & (not pd.isna(manual_found.loc[elt]['Smiles'])):\n",
    "                    temp_pair.append(manual_found.loc[elt.lower()]['Smiles'])\n",
    "                    found = True\n",
    "            elif elt.lower() in manual_found.index: # If not, try manual list\n",
    "                elt = elt.lower()\n",
    "                if not pd.isna(manual_found.loc[elt]['Smiles']):\n",
    "                    temp_pair.append(manual_found.loc[elt]['Smiles'])\n",
    "                    found = True\n",
    "            else: # Otherwise search aliases on modelseed\n",
    "                elt = elt.lower()\n",
    "                for k2, v2 in seed2aliases.items():\n",
    "                    if (elt in v2) & (k2 in seed2smi):              \n",
    "                        temp_pair.append(seed2smi[k2])\n",
    "                        found = True\n",
    "                        break # Don't keep searching after first hit\n",
    "            \n",
    "            if not found:\n",
    "                missing_cofactors.append(elt.lower())\n",
    "\n",
    "        if len(temp_pair) == 2:\n",
    "            temp_pair = [m2s(neutralize_atoms(s2m(elt))) for elt in temp_pair] # Neutralize atoms\n",
    "            temp_pair = sanitize(temp_pair) # Canonicalize and remove stereochemistry\n",
    "            temp_pair = ','.join(temp_pair)\n",
    "            if temp_pair not in smi2paired_cof:\n",
    "                smi2paired_cof[temp_pair] = [k]\n",
    "\n",
    "a_few_missing_pairs = [['Nc1nc(O)nc2c1ncn2[C@H]1C[C@H](O)[C@@H](COP(=O)([O-])OP(=O)([O-])OP(=O)([O-])O)O1', 'Nc1nc(O)nc2c1ncn2[C@H]1C[C@H](O)[C@@H](COP(=O)([O-])[O-])O1'],\n",
    "                       ['*C/C(C)=C/Cc1c(C)c(O)c2ccccc2c1O', '*C/C(C)=C/CC1=C(C)C(=O)c2ccccc2C1=O'],\n",
    "                       ['Cc1cc2nc3c(nc(=O)[n-]c3=O)n(C[C@H](O)[C@H](O)[C@H](O)CO)c2cc1C', 'Cc1cc2NC3C(=O)NC(=O)N=C3N(C[C@H](O)[C@H](O)[C@H](O)CO)c2cc1C']\n",
    "                        ]\n",
    "\n",
    "afmp_classes = [['PYROPHOSPHATE_DONOR_CoF,PYROPHOSPHATE_ACCEPTOR_CoF'],\n",
    "                [\"Ubiquinols_CoF,Ubiquinones_CoF\"],\n",
    "                [\"FAD_CoF,FADH2_CoF\"]\n",
    "                ]\n",
    "\n",
    "for i in range(len(a_few_missing_pairs)):\n",
    "    temp_pair = a_few_missing_pairs[i]\n",
    "    temp_pair = [m2s(neutralize_atoms(s2m(elt))) for elt in temp_pair] # Neutralize atoms\n",
    "    temp_pair = sanitize(temp_pair) # Canonicalize and remove stereochemistry\n",
    "    temp_pair = ','.join(temp_pair)\n",
    "    if temp_pair not in smi2paired_cof:\n",
    "        smi2paired_cof[temp_pair] = afmp_classes[i]\n",
    "\n",
    "# save_json(smi2paired_cof, '../mapping/smi2paired_cof.json')\n",
    "\n",
    "rm_from_min = [\"ASCORBATE_RADICAL_CoF,ASCORBATE_CoF\"]\n",
    "rm_from_imt = rm_from_min + [\"FORMYL_DONOR_CoF,FORMYL_ACCEPTOR_CoF\"]\n",
    "\n",
    "smi2paired_cof_min = smi2paired_cof.copy()\n",
    "smi2paired_cof_imt = smi2paired_cof.copy()\n",
    "\n",
    "rm_smi_from_min = []\n",
    "rm_smi_from_imt = []\n",
    "for k,v in smi2paired_cof.items():\n",
    "    if v in rm_from_min:\n",
    "        rm_smi_from_min.append(k)\n",
    "    if v in rm_from_imt:\n",
    "        rm_smi_from_imt.append(k)\n",
    "\n",
    "for elt in rm_smi_from_min:\n",
    "    smi2paired_cof_min.pop(elt)\n",
    "\n",
    "for elt in rm_smi_from_imt:\n",
    "    smi2paired_cof_imt.pop(elt)\n",
    "\n",
    "save_json(smi2paired_cof_min, '../mapping/smi2paired_cof_min.json')\n",
    "save_json(smi2paired_cof_imt, '../mapping/smi2paired_cof_imt.json')"
   ]
  }
 ],
 "metadata": {
  "kernelspec": {
   "display_name": "mine",
   "language": "python",
   "name": "python3"
  },
  "language_info": {
   "codemirror_mode": {
    "name": "ipython",
    "version": 3
   },
   "file_extension": ".py",
   "mimetype": "text/x-python",
   "name": "python",
   "nbconvert_exporter": "python",
   "pygments_lexer": "ipython3",
   "version": "3.7.12"
  }
 },
 "nbformat": 4,
 "nbformat_minor": 2
}
