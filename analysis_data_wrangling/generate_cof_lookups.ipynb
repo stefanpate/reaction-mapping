{
 "cells": [
  {
   "cell_type": "code",
   "execution_count": 1,
   "metadata": {},
   "outputs": [],
   "source": [
    "import pandas as pd\n",
    "import sys\n",
    "sys.path.append('/home/stef/Tb/reaction_mapping')\n",
    "from utils import save_json, load_json, sanitize"
   ]
  },
  {
   "cell_type": "code",
   "execution_count": 22,
   "metadata": {},
   "outputs": [],
   "source": [
    "min_rules_path = '../mapping/minimal1224_all_uniprot.tsv'\n",
    "imt_rules_path = '../mapping/JN3604IMT_rules.tsv'\n",
    "paired_labels_path = 'cofactor_pair_alldb.json'\n",
    "unpaired_labels_path = 'cofactor_list_alldb.tsv'\n",
    "\n",
    "\n",
    "min_df = pd.read_csv(min_rules_path, delimiter='\\t')\n",
    "min_df.set_index('Name', inplace=True)\n",
    "min_labels = []\n",
    "for elt in min_df[\"Reactants\"].to_list():\n",
    "    min_labels += [subelt.lower() for subelt in elt.split(';')]\n",
    "\n",
    "for elt in min_df[\"Products\"].to_list():\n",
    "    min_labels += [subelt.lower() for subelt in elt.split(';')]\n",
    "min_labels = set(min_labels)\n",
    "\n",
    "imt_df = pd.read_csv(imt_rules_path, delimiter='\\t')\n",
    "imt_df.set_index('Name', inplace=True)\n",
    "imt_labels = []\n",
    "for elt in imt_df[\"Reactants\"].to_list():\n",
    "    imt_labels += [subelt.lower() for subelt in elt.split(';')]\n",
    "\n",
    "for elt in imt_df[\"Products\"].to_list():\n",
    "    imt_labels += [subelt.lower() for subelt in elt.split(';')]\n",
    "imt_labels = set(imt_labels)\n",
    "\n",
    "# Assemble my set\n",
    "paired_labels = load_json(paired_labels_path)\n",
    "temp = []\n",
    "for k in paired_labels.keys():\n",
    "    temp += [elt.lower() for elt in k.split(',')]\n",
    "\n",
    "paired_labels = set(temp)\n",
    "\n",
    "unpaired_labels = pd.read_csv(unpaired_labels_path, delimiter='\\t')\n",
    "unpaired_labels = set([elt.lower() for elt in unpaired_labels['replacement'].to_list()])\n",
    "\n",
    "my_set = paired_labels | unpaired_labels"
   ]
  },
  {
   "cell_type": "markdown",
   "metadata": {},
   "source": [
    "Min rules have a few more cofactors than imt rules"
   ]
  },
  {
   "cell_type": "code",
   "execution_count": 26,
   "metadata": {},
   "outputs": [
    {
     "data": {
      "text/plain": [
       "{'co', 'formyl_acceptor_cof', 'formyl_donor_cof', 'hi'}"
      ]
     },
     "execution_count": 26,
     "metadata": {},
     "output_type": "execute_result"
    }
   ],
   "source": [
    "min_labels - imt_labels"
   ]
  },
  {
   "cell_type": "code",
   "execution_count": 27,
   "metadata": {},
   "outputs": [
    {
     "data": {
      "text/plain": [
       "set()"
      ]
     },
     "execution_count": 27,
     "metadata": {},
     "output_type": "execute_result"
    }
   ],
   "source": [
    "imt_labels - min_labels"
   ]
  },
  {
   "cell_type": "markdown",
   "metadata": {},
   "source": [
    "I am not missing any cofactors from either min or imt rules"
   ]
  },
  {
   "cell_type": "code",
   "execution_count": 28,
   "metadata": {},
   "outputs": [
    {
     "data": {
      "text/plain": [
       "{'any'}"
      ]
     },
     "execution_count": 28,
     "metadata": {},
     "output_type": "execute_result"
    }
   ],
   "source": [
    "min_labels - my_set"
   ]
  },
  {
   "cell_type": "code",
   "execution_count": 29,
   "metadata": {},
   "outputs": [
    {
     "data": {
      "text/plain": [
       "{'any'}"
      ]
     },
     "execution_count": 29,
     "metadata": {},
     "output_type": "execute_result"
    }
   ],
   "source": [
    "imt_labels - my_set"
   ]
  },
  {
   "cell_type": "markdown",
   "metadata": {},
   "source": [
    "I have cofactors that min and imt rules do not. Need to get rid of these"
   ]
  },
  {
   "cell_type": "code",
   "execution_count": 30,
   "metadata": {},
   "outputs": [
    {
     "data": {
      "text/plain": [
       "{'ascorbate_cof', 'ascorbate_radical_cof', 'co3', 'h+', 'hbr'}"
      ]
     },
     "execution_count": 30,
     "metadata": {},
     "output_type": "execute_result"
    }
   ],
   "source": [
    "my_set - min_labels"
   ]
  },
  {
   "cell_type": "code",
   "execution_count": 31,
   "metadata": {},
   "outputs": [
    {
     "data": {
      "text/plain": [
       "{'ascorbate_cof',\n",
       " 'ascorbate_radical_cof',\n",
       " 'co',\n",
       " 'co3',\n",
       " 'formyl_acceptor_cof',\n",
       " 'formyl_donor_cof',\n",
       " 'h+',\n",
       " 'hbr',\n",
       " 'hi'}"
      ]
     },
     "execution_count": 31,
     "metadata": {},
     "output_type": "execute_result"
    }
   ],
   "source": [
    "my_set - imt_labels"
   ]
  },
  {
   "cell_type": "code",
   "execution_count": null,
   "metadata": {},
   "outputs": [],
   "source": []
  }
 ],
 "metadata": {
  "kernelspec": {
   "display_name": "mine",
   "language": "python",
   "name": "python3"
  },
  "language_info": {
   "codemirror_mode": {
    "name": "ipython",
    "version": 3
   },
   "file_extension": ".py",
   "mimetype": "text/x-python",
   "name": "python",
   "nbconvert_exporter": "python",
   "pygments_lexer": "ipython3",
   "version": "3.7.12"
  }
 },
 "nbformat": 4,
 "nbformat_minor": 2
}
